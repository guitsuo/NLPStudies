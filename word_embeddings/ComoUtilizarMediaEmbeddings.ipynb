{
  "nbformat": 4,
  "nbformat_minor": 0,
  "metadata": {
    "colab": {
      "name": "ComoUtilizarMediaEmbeddings.ipynb",
      "provenance": []
    },
    "kernelspec": {
      "name": "python3",
      "display_name": "Python 3"
    },
    "language_info": {
      "name": "python"
    }
  },
  "cells": [
    {
      "cell_type": "code",
      "execution_count": null,
      "metadata": {
        "id": "2WFDdJInu9yJ"
      },
      "outputs": [],
      "source": [
        "#https://towardsdatascience.com/nlp-performance-of-different-word-embeddings-on-text-classification-de648c6262b\n",
        "#https://github.com/TomLin/Playground/blob/master/04-Model-Comparison-Word2vec-Doc2vec-TfIdfWeighted.ipynb"
      ]
    },
    {
      "cell_type": "code",
      "source": [
        "!pip install UtilTextClassification"
      ],
      "metadata": {
        "colab": {
          "base_uri": "https://localhost:8080/"
        },
        "id": "NnL6Y72Bx3ST",
        "outputId": "a92049f5-b561-47fe-b13b-634bcea0e06c"
      },
      "execution_count": 20,
      "outputs": [
        {
          "output_type": "stream",
          "name": "stdout",
          "text": [
            "Looking in indexes: https://pypi.org/simple, https://us-python.pkg.dev/colab-wheels/public/simple/\n",
            "\u001b[31mERROR: Could not find a version that satisfies the requirement UtilTextClassification (from versions: none)\u001b[0m\n",
            "\u001b[31mERROR: No matching distribution found for UtilTextClassification\u001b[0m\n"
          ]
        }
      ]
    },
    {
      "cell_type": "code",
      "source": [
        "import pandas as pd\n",
        "import numpy as np\n",
        "from numpy import random\n",
        "import gensim\n",
        "import spacy\n",
        "import nltk\n",
        "import os\n",
        "import pickle\n",
        "\n",
        "import matplotlib.pyplot as plt\n",
        "import re\n",
        "import warnings\n",
        "import seaborn as sns\n",
        "from gensim.models.doc2vec import TaggedDocument\n",
        "\n",
        "warnings.simplefilter('ignore')\n",
        "pd.set_option('max_colwidth',1000)\n",
        "\n",
        "\n",
        "%matplotlib inline\n",
        "\n",
        "\n",
        "def plot_freq(df, col, top_classes=20):\n",
        "  \n",
        "\t\"\"\"\n",
        "\t:param df: dataframe\n",
        "\t:param col: list of label string\n",
        "\t:param top_classes: (integer) Plot top labels only.\n",
        "\t\"\"\"\n",
        "\tsns.set_style('whitegrid')\n",
        "\n",
        "\tcol = col\n",
        "\tdata = df[~df[col].isnull().any(axis=1)]\n",
        "\tdata = data.set_index(col)\n",
        "\n",
        "\t# Check out the frequency over each concept.\n",
        "\tfreq = pd.DataFrame({\n",
        "\t\t\t'freq': data.index.value_counts(normalize=True),\n",
        "\t\t\t'count': data.index.value_counts(normalize=False)},\n",
        "\t\t\tindex=data.index.value_counts(normalize=True).index)\n",
        "\tprint('Frequency(Top {})...'.format(top_classes))\n",
        "\tfreq = freq[:top_classes]\n",
        "\tdisplay(freq)\n",
        "\n",
        "\t# Plot bar chart.\n",
        "\tfig, ax = plt.subplots(1,1, figsize=(15,8))\n",
        "\t_ = freq.plot(y='freq', kind='bar', ax=ax, legend=False, colormap='Set2')\n",
        "\t_ = ax.set_ylabel('frequency', fontsize='x-large')\n",
        "\t_ = ax.set_xticklabels(freq.index.values, rotation=40, ha='right')\n",
        "\t_ = ax.set_title('Frequency over Each Class', fontsize='x-large')"
      ],
      "metadata": {
        "id": "yg60pm1Yv9Y5"
      },
      "execution_count": 2,
      "outputs": []
    },
    {
      "cell_type": "code",
      "source": [
        "from google.colab import drive\n",
        "drive.mount('/content/gdrive')"
      ],
      "metadata": {
        "colab": {
          "base_uri": "https://localhost:8080/"
        },
        "id": "6sHZMOJnvECU",
        "outputId": "42eb9f53-e8ff-4cc8-948f-2072624448ed"
      },
      "execution_count": 1,
      "outputs": [
        {
          "output_type": "stream",
          "name": "stdout",
          "text": [
            "Mounted at /content/gdrive\n"
          ]
        }
      ]
    },
    {
      "cell_type": "code",
      "source": [
        "!unzip gdrive/My\\ Drive/nlp/complaints.csv.zip"
      ],
      "metadata": {
        "colab": {
          "base_uri": "https://localhost:8080/"
        },
        "id": "Ry2B4S6mvbyX",
        "outputId": "d25f43ab-957b-4531-a924-9ccdb06dde20"
      },
      "execution_count": 2,
      "outputs": [
        {
          "output_type": "stream",
          "name": "stdout",
          "text": [
            "Archive:  gdrive/My Drive/nlp/complaints.csv.zip\n",
            "  inflating: complaints.csv          \n"
          ]
        }
      ]
    },
    {
      "cell_type": "code",
      "source": [
        "df = pd.read_csv('complaints.csv')\n",
        "df = df[pd.notnull(df['Consumer complaint narrative'])]\n",
        "#df = df[pd.notnull(df['consumer_complaint_narrative'])]"
      ],
      "metadata": {
        "id": "bWHWM2kLwFRY"
      },
      "execution_count": 5,
      "outputs": []
    },
    {
      "cell_type": "code",
      "source": [
        "df.shape"
      ],
      "metadata": {
        "colab": {
          "base_uri": "https://localhost:8080/"
        },
        "id": "xBchSaIqwMTR",
        "outputId": "b5ec8f41-4157-4db3-ca45-f28ff1008379"
      },
      "execution_count": 10,
      "outputs": [
        {
          "output_type": "execute_result",
          "data": {
            "text/plain": [
              "(949737, 18)"
            ]
          },
          "metadata": {},
          "execution_count": 10
        }
      ]
    },
    {
      "cell_type": "markdown",
      "source": [
        "## Filtrando texto e rótulo"
      ],
      "metadata": {
        "id": "JA1pxKnRxYKU"
      }
    },
    {
      "cell_type": "code",
      "source": [
        "df = df[['Product','Consumer complaint narrative']]"
      ],
      "metadata": {
        "id": "iSG8dq9hxXa0"
      },
      "execution_count": 6,
      "outputs": []
    },
    {
      "cell_type": "code",
      "source": [
        "# Experiment on smaller subset.\n",
        "df = df[:25000]"
      ],
      "metadata": {
        "id": "spGVdZQ6xivG"
      },
      "execution_count": 7,
      "outputs": []
    },
    {
      "cell_type": "code",
      "source": [
        "display(df['Product'].value_counts())"
      ],
      "metadata": {
        "colab": {
          "base_uri": "https://localhost:8080/",
          "height": 220
        },
        "id": "0CYquXU7xmCV",
        "outputId": "abd3db06-db3b-4398-a520-a92c2073a956"
      },
      "execution_count": 17,
      "outputs": [
        {
          "output_type": "display_data",
          "data": {
            "text/plain": [
              "Credit reporting, credit repair services, or other personal consumer reports    15417\n",
              "Debt collection                                                                  3092\n",
              "Credit card or prepaid card                                                      1912\n",
              "Checking or savings account                                                      1646\n",
              "Mortgage                                                                         1381\n",
              "Money transfer, virtual currency, or money service                                604\n",
              "Vehicle loan or lease                                                             423\n",
              "Student loan                                                                      288\n",
              "Payday loan, title loan, or personal loan                                         236\n",
              "Consumer Loan                                                                       1\n",
              "Name: Product, dtype: int64"
            ]
          },
          "metadata": {}
        }
      ]
    },
    {
      "cell_type": "code",
      "source": [
        "plot_freq(df, col=['Product'], top_classes=30)"
      ],
      "metadata": {
        "colab": {
          "base_uri": "https://localhost:8080/",
          "height": 1000
        },
        "id": "116BgREexpa-",
        "outputId": "b3f2e6b2-5307-4d95-f827-87baa5c0a339"
      },
      "execution_count": 25,
      "outputs": [
        {
          "output_type": "stream",
          "name": "stdout",
          "text": [
            "Frequency(Top 30)...\n"
          ]
        },
        {
          "output_type": "display_data",
          "data": {
            "text/plain": [
              "                                                                                 freq  \\\n",
              "Credit reporting, credit repair services, or other personal consumer reports  0.61668   \n",
              "Debt collection                                                               0.12368   \n",
              "Credit card or prepaid card                                                   0.07648   \n",
              "Checking or savings account                                                   0.06584   \n",
              "Mortgage                                                                      0.05524   \n",
              "Money transfer, virtual currency, or money service                            0.02416   \n",
              "Vehicle loan or lease                                                         0.01692   \n",
              "Student loan                                                                  0.01152   \n",
              "Payday loan, title loan, or personal loan                                     0.00944   \n",
              "Consumer Loan                                                                 0.00004   \n",
              "\n",
              "                                                                              count  \n",
              "Credit reporting, credit repair services, or other personal consumer reports  15417  \n",
              "Debt collection                                                                3092  \n",
              "Credit card or prepaid card                                                    1912  \n",
              "Checking or savings account                                                    1646  \n",
              "Mortgage                                                                       1381  \n",
              "Money transfer, virtual currency, or money service                              604  \n",
              "Vehicle loan or lease                                                           423  \n",
              "Student loan                                                                    288  \n",
              "Payday loan, title loan, or personal loan                                       236  \n",
              "Consumer Loan                                                                     1  "
            ],
            "text/html": [
              "\n",
              "  <div id=\"df-52d07877-8708-4560-864d-6411a25be381\">\n",
              "    <div class=\"colab-df-container\">\n",
              "      <div>\n",
              "<style scoped>\n",
              "    .dataframe tbody tr th:only-of-type {\n",
              "        vertical-align: middle;\n",
              "    }\n",
              "\n",
              "    .dataframe tbody tr th {\n",
              "        vertical-align: top;\n",
              "    }\n",
              "\n",
              "    .dataframe thead th {\n",
              "        text-align: right;\n",
              "    }\n",
              "</style>\n",
              "<table border=\"1\" class=\"dataframe\">\n",
              "  <thead>\n",
              "    <tr style=\"text-align: right;\">\n",
              "      <th></th>\n",
              "      <th>freq</th>\n",
              "      <th>count</th>\n",
              "    </tr>\n",
              "  </thead>\n",
              "  <tbody>\n",
              "    <tr>\n",
              "      <th>Credit reporting, credit repair services, or other personal consumer reports</th>\n",
              "      <td>0.61668</td>\n",
              "      <td>15417</td>\n",
              "    </tr>\n",
              "    <tr>\n",
              "      <th>Debt collection</th>\n",
              "      <td>0.12368</td>\n",
              "      <td>3092</td>\n",
              "    </tr>\n",
              "    <tr>\n",
              "      <th>Credit card or prepaid card</th>\n",
              "      <td>0.07648</td>\n",
              "      <td>1912</td>\n",
              "    </tr>\n",
              "    <tr>\n",
              "      <th>Checking or savings account</th>\n",
              "      <td>0.06584</td>\n",
              "      <td>1646</td>\n",
              "    </tr>\n",
              "    <tr>\n",
              "      <th>Mortgage</th>\n",
              "      <td>0.05524</td>\n",
              "      <td>1381</td>\n",
              "    </tr>\n",
              "    <tr>\n",
              "      <th>Money transfer, virtual currency, or money service</th>\n",
              "      <td>0.02416</td>\n",
              "      <td>604</td>\n",
              "    </tr>\n",
              "    <tr>\n",
              "      <th>Vehicle loan or lease</th>\n",
              "      <td>0.01692</td>\n",
              "      <td>423</td>\n",
              "    </tr>\n",
              "    <tr>\n",
              "      <th>Student loan</th>\n",
              "      <td>0.01152</td>\n",
              "      <td>288</td>\n",
              "    </tr>\n",
              "    <tr>\n",
              "      <th>Payday loan, title loan, or personal loan</th>\n",
              "      <td>0.00944</td>\n",
              "      <td>236</td>\n",
              "    </tr>\n",
              "    <tr>\n",
              "      <th>Consumer Loan</th>\n",
              "      <td>0.00004</td>\n",
              "      <td>1</td>\n",
              "    </tr>\n",
              "  </tbody>\n",
              "</table>\n",
              "</div>\n",
              "      <button class=\"colab-df-convert\" onclick=\"convertToInteractive('df-52d07877-8708-4560-864d-6411a25be381')\"\n",
              "              title=\"Convert this dataframe to an interactive table.\"\n",
              "              style=\"display:none;\">\n",
              "        \n",
              "  <svg xmlns=\"http://www.w3.org/2000/svg\" height=\"24px\"viewBox=\"0 0 24 24\"\n",
              "       width=\"24px\">\n",
              "    <path d=\"M0 0h24v24H0V0z\" fill=\"none\"/>\n",
              "    <path d=\"M18.56 5.44l.94 2.06.94-2.06 2.06-.94-2.06-.94-.94-2.06-.94 2.06-2.06.94zm-11 1L8.5 8.5l.94-2.06 2.06-.94-2.06-.94L8.5 2.5l-.94 2.06-2.06.94zm10 10l.94 2.06.94-2.06 2.06-.94-2.06-.94-.94-2.06-.94 2.06-2.06.94z\"/><path d=\"M17.41 7.96l-1.37-1.37c-.4-.4-.92-.59-1.43-.59-.52 0-1.04.2-1.43.59L10.3 9.45l-7.72 7.72c-.78.78-.78 2.05 0 2.83L4 21.41c.39.39.9.59 1.41.59.51 0 1.02-.2 1.41-.59l7.78-7.78 2.81-2.81c.8-.78.8-2.07 0-2.86zM5.41 20L4 18.59l7.72-7.72 1.47 1.35L5.41 20z\"/>\n",
              "  </svg>\n",
              "      </button>\n",
              "      \n",
              "  <style>\n",
              "    .colab-df-container {\n",
              "      display:flex;\n",
              "      flex-wrap:wrap;\n",
              "      gap: 12px;\n",
              "    }\n",
              "\n",
              "    .colab-df-convert {\n",
              "      background-color: #E8F0FE;\n",
              "      border: none;\n",
              "      border-radius: 50%;\n",
              "      cursor: pointer;\n",
              "      display: none;\n",
              "      fill: #1967D2;\n",
              "      height: 32px;\n",
              "      padding: 0 0 0 0;\n",
              "      width: 32px;\n",
              "    }\n",
              "\n",
              "    .colab-df-convert:hover {\n",
              "      background-color: #E2EBFA;\n",
              "      box-shadow: 0px 1px 2px rgba(60, 64, 67, 0.3), 0px 1px 3px 1px rgba(60, 64, 67, 0.15);\n",
              "      fill: #174EA6;\n",
              "    }\n",
              "\n",
              "    [theme=dark] .colab-df-convert {\n",
              "      background-color: #3B4455;\n",
              "      fill: #D2E3FC;\n",
              "    }\n",
              "\n",
              "    [theme=dark] .colab-df-convert:hover {\n",
              "      background-color: #434B5C;\n",
              "      box-shadow: 0px 1px 3px 1px rgba(0, 0, 0, 0.15);\n",
              "      filter: drop-shadow(0px 1px 2px rgba(0, 0, 0, 0.3));\n",
              "      fill: #FFFFFF;\n",
              "    }\n",
              "  </style>\n",
              "\n",
              "      <script>\n",
              "        const buttonEl =\n",
              "          document.querySelector('#df-52d07877-8708-4560-864d-6411a25be381 button.colab-df-convert');\n",
              "        buttonEl.style.display =\n",
              "          google.colab.kernel.accessAllowed ? 'block' : 'none';\n",
              "\n",
              "        async function convertToInteractive(key) {\n",
              "          const element = document.querySelector('#df-52d07877-8708-4560-864d-6411a25be381');\n",
              "          const dataTable =\n",
              "            await google.colab.kernel.invokeFunction('convertToInteractive',\n",
              "                                                     [key], {});\n",
              "          if (!dataTable) return;\n",
              "\n",
              "          const docLinkHtml = 'Like what you see? Visit the ' +\n",
              "            '<a target=\"_blank\" href=https://colab.research.google.com/notebooks/data_table.ipynb>data table notebook</a>'\n",
              "            + ' to learn more about interactive tables.';\n",
              "          element.innerHTML = '';\n",
              "          dataTable['output_type'] = 'display_data';\n",
              "          await google.colab.output.renderOutput(dataTable, element);\n",
              "          const docLink = document.createElement('div');\n",
              "          docLink.innerHTML = docLinkHtml;\n",
              "          element.appendChild(docLink);\n",
              "        }\n",
              "      </script>\n",
              "    </div>\n",
              "  </div>\n",
              "  "
            ]
          },
          "metadata": {}
        },
        {
          "output_type": "display_data",
          "data": {
            "text/plain": [
              "<Figure size 1080x576 with 1 Axes>"
            ],
            "image/png": "[encoded data removed]"
          },
          "metadata": {}
        }
      ]
    },
    {
      "cell_type": "markdown",
      "source": [
        "# Pré-processamento de documentos"
      ],
      "metadata": {
        "id": "QO6Dd62xylXS"
      }
    },
    {
      "cell_type": "code",
      "source": [
        "!python -m spacy download en_core_web_md "
      ],
      "metadata": {
        "colab": {
          "base_uri": "https://localhost:8080/"
        },
        "id": "e96KlLtgyuBX",
        "outputId": "48271338-56a3-4276-c887-3681b0e85c93"
      },
      "execution_count": 27,
      "outputs": [
        {
          "output_type": "stream",
          "name": "stdout",
          "text": [
            "Looking in indexes: https://pypi.org/simple, https://us-python.pkg.dev/colab-wheels/public/simple/\n",
            "Collecting en_core_web_md==2.2.5\n",
            "  Downloading https://github.com/explosion/spacy-models/releases/download/en_core_web_md-2.2.5/en_core_web_md-2.2.5.tar.gz (96.4 MB)\n",
            "\u001b[K     |████████████████████████████████| 96.4 MB 1.3 MB/s \n",
            "\u001b[?25hRequirement already satisfied: spacy>=2.2.2 in /usr/local/lib/python3.7/dist-packages (from en_core_web_md==2.2.5) (2.2.4)\n",
            "Requirement already satisfied: wasabi<1.1.0,>=0.4.0 in /usr/local/lib/python3.7/dist-packages (from spacy>=2.2.2->en_core_web_md==2.2.5) (0.9.1)\n",
            "Requirement already satisfied: srsly<1.1.0,>=1.0.2 in /usr/local/lib/python3.7/dist-packages (from spacy>=2.2.2->en_core_web_md==2.2.5) (1.0.5)\n",
            "Requirement already satisfied: thinc==7.4.0 in /usr/local/lib/python3.7/dist-packages (from spacy>=2.2.2->en_core_web_md==2.2.5) (7.4.0)\n",
            "Requirement already satisfied: plac<1.2.0,>=0.9.6 in /usr/local/lib/python3.7/dist-packages (from spacy>=2.2.2->en_core_web_md==2.2.5) (1.1.3)\n",
            "Requirement already satisfied: catalogue<1.1.0,>=0.0.7 in /usr/local/lib/python3.7/dist-packages (from spacy>=2.2.2->en_core_web_md==2.2.5) (1.0.0)\n",
            "Requirement already satisfied: numpy>=1.15.0 in /usr/local/lib/python3.7/dist-packages (from spacy>=2.2.2->en_core_web_md==2.2.5) (1.21.6)\n",
            "Requirement already satisfied: blis<0.5.0,>=0.4.0 in /usr/local/lib/python3.7/dist-packages (from spacy>=2.2.2->en_core_web_md==2.2.5) (0.4.1)\n",
            "Requirement already satisfied: cymem<2.1.0,>=2.0.2 in /usr/local/lib/python3.7/dist-packages (from spacy>=2.2.2->en_core_web_md==2.2.5) (2.0.6)\n",
            "Requirement already satisfied: requests<3.0.0,>=2.13.0 in /usr/local/lib/python3.7/dist-packages (from spacy>=2.2.2->en_core_web_md==2.2.5) (2.23.0)\n",
            "Requirement already satisfied: preshed<3.1.0,>=3.0.2 in /usr/local/lib/python3.7/dist-packages (from spacy>=2.2.2->en_core_web_md==2.2.5) (3.0.6)\n",
            "Requirement already satisfied: tqdm<5.0.0,>=4.38.0 in /usr/local/lib/python3.7/dist-packages (from spacy>=2.2.2->en_core_web_md==2.2.5) (4.64.0)\n",
            "Requirement already satisfied: murmurhash<1.1.0,>=0.28.0 in /usr/local/lib/python3.7/dist-packages (from spacy>=2.2.2->en_core_web_md==2.2.5) (1.0.7)\n",
            "Requirement already satisfied: setuptools in /usr/local/lib/python3.7/dist-packages (from spacy>=2.2.2->en_core_web_md==2.2.5) (57.4.0)\n",
            "Requirement already satisfied: importlib-metadata>=0.20 in /usr/local/lib/python3.7/dist-packages (from catalogue<1.1.0,>=0.0.7->spacy>=2.2.2->en_core_web_md==2.2.5) (4.11.4)\n",
            "Requirement already satisfied: typing-extensions>=3.6.4 in /usr/local/lib/python3.7/dist-packages (from importlib-metadata>=0.20->catalogue<1.1.0,>=0.0.7->spacy>=2.2.2->en_core_web_md==2.2.5) (4.2.0)\n",
            "Requirement already satisfied: zipp>=0.5 in /usr/local/lib/python3.7/dist-packages (from importlib-metadata>=0.20->catalogue<1.1.0,>=0.0.7->spacy>=2.2.2->en_core_web_md==2.2.5) (3.8.0)\n",
            "Requirement already satisfied: idna<3,>=2.5 in /usr/local/lib/python3.7/dist-packages (from requests<3.0.0,>=2.13.0->spacy>=2.2.2->en_core_web_md==2.2.5) (2.10)\n",
            "Requirement already satisfied: chardet<4,>=3.0.2 in /usr/local/lib/python3.7/dist-packages (from requests<3.0.0,>=2.13.0->spacy>=2.2.2->en_core_web_md==2.2.5) (3.0.4)\n",
            "Requirement already satisfied: urllib3!=1.25.0,!=1.25.1,<1.26,>=1.21.1 in /usr/local/lib/python3.7/dist-packages (from requests<3.0.0,>=2.13.0->spacy>=2.2.2->en_core_web_md==2.2.5) (1.24.3)\n",
            "Requirement already satisfied: certifi>=2017.4.17 in /usr/local/lib/python3.7/dist-packages (from requests<3.0.0,>=2.13.0->spacy>=2.2.2->en_core_web_md==2.2.5) (2022.5.18.1)\n",
            "Building wheels for collected packages: en-core-web-md\n",
            "  Building wheel for en-core-web-md (setup.py) ... \u001b[?25l\u001b[?25hdone\n",
            "  Created wheel for en-core-web-md: filename=en_core_web_md-2.2.5-py3-none-any.whl size=98051301 sha256=ad3b9472861def95a62ff55eefb9d9743794fa6e4b6102645ab883b8af4f5d2e\n",
            "  Stored in directory: /tmp/pip-ephem-wheel-cache-igt3700n/wheels/69/c5/b8/4f1c029d89238734311b3269762ab2ee325a42da2ce8edb997\n",
            "Successfully built en-core-web-md\n",
            "Installing collected packages: en-core-web-md\n",
            "Successfully installed en-core-web-md-2.2.5\n",
            "\u001b[38;5;2m✔ Download and installation successful\u001b[0m\n",
            "You can now load the model via spacy.load('en_core_web_md')\n"
          ]
        }
      ]
    },
    {
      "cell_type": "code",
      "source": [
        "import spacy\n",
        "\n",
        "\n",
        "nlp = spacy.load('en_core_web_md')\n",
        "stop_words = spacy.lang.en.stop_words.STOP_WORDS"
      ],
      "metadata": {
        "id": "pqN4PdaVyoj6"
      },
      "execution_count": 1,
      "outputs": []
    },
    {
      "cell_type": "code",
      "source": [
        "import gensim \n",
        "\n",
        "class DocPreprocess(object):\n",
        "\n",
        "\tdef __init__(self,\n",
        "\t\t\t\t nlp,\n",
        "\t\t\t\t stop_words,\n",
        "\t\t\t\t docs,\n",
        "\t\t\t\t labels,\n",
        "\t\t\t\t build_bi=False,\n",
        "\t\t\t\t min_count=5,\n",
        "\t\t\t\t threshold=10,\n",
        "\t\t\t\t allowed_postags=['ADV', 'VERB', 'ADJ', 'NOUN', 'PROPN', 'NUM']):\n",
        "\n",
        "\t\tself.nlp = nlp  # spacy nlp object\n",
        "\t\tself.stop_words = stop_words  # spacy.lang.en.stop_words.STOP_WORDS\n",
        "\t\tself.docs = docs  # docs must be either list or numpy array or series of docs\n",
        "\t\tself.labels = labels # labels must be list or or numpy array or series of labels\n",
        "\t\tself.doc_ids = np.arange(len(docs))\n",
        "\t\tself.simple_doc_tokens = [gensim.utils.simple_preprocess(doc, deacc=True) for doc in self.docs]\n",
        "\n",
        "\t\tif build_bi:\n",
        "\t\t\tself.bi_detector = self.build_bi_detect(self.simple_doc_tokens, min_count=min_count, threshold=threshold)\n",
        "\t\t\tself.new_docs = self.make_bigram_doc(self.bi_detector, self.simple_doc_tokens)\n",
        "\t\telse:\n",
        "\t\t\tself.new_docs = self.make_simple_doc(self.simple_doc_tokens)\n",
        "\t\tself.doc_words = [self.lemmatize(doc, allowed_postags=allowed_postags) for doc in self.new_docs]\n",
        "\t\tself.tagdocs = [TaggedDocument(words=words, tags=[tag]) for words, tag in zip(self.doc_words, self.doc_ids)]\n",
        "\n",
        "\n",
        "\tdef build_bi_detect(self, simple_doc_tokens, min_count, threshold):\n",
        "\t\tbi_ = gensim.models.phrases.Phrases(simple_doc_tokens, min_count=min_count, threshold=threshold)\n",
        "\t\tbi_detector = gensim.models.phrases.Phraser(bi_)  # wrapper enhance efficiency\n",
        "\t\treturn bi_detector\n",
        "\n",
        "\n",
        "\tdef make_bigram_doc(self, bi_detector, simple_doc_tokens):\n",
        "\t\tbi_doc_tokens = [bi_detector[doc_tokens] for doc_tokens in simple_doc_tokens]\n",
        "\t\tbi_docs = []\n",
        "\t\tfor bi_tokens in bi_doc_tokens:\n",
        "\t\t\tbi_doc = \" \".join(bi_tokens)  # concatenate back to a sentence\n",
        "\t\t\tbi_docs.append(bi_doc)\n",
        "\t\treturn bi_docs\n",
        "\n",
        "\n",
        "\tdef make_simple_doc(self, simple_doc_tokens):\n",
        "\t\tsimple_docs = []\n",
        "\t\tfor doc_tokens in simple_doc_tokens:\n",
        "\t\t\tsimple = \" \".join(doc_tokens)  # concatenate back to a sentence\n",
        "\t\t\tsimple_docs.append(simple)\n",
        "\t\treturn simple_docs\n",
        "\n",
        "\n",
        "\tdef lemmatize(self, doc, allowed_postags):\n",
        "\t\t\"\"\"\n",
        "\t\tLemmatize words and remove stop_words.\n",
        "\t\t:param doc: text\n",
        "\t\t:param allowed_postags: list of pos tags\n",
        "\t\t:return:\n",
        "\t\t\tlist of tokens\n",
        "\t\t\"\"\"\n",
        "\t\tdoc = self.nlp(doc)\n",
        "\t\ttokens = [token.lemma_ for token in doc if (\n",
        "\t\t\t\ttoken.pos_ in allowed_postags) and (token.text not in self.stop_words)]\n",
        "\t\treturn tokens"
      ],
      "metadata": {
        "id": "fdfCJCVHvpxP"
      },
      "execution_count": 10,
      "outputs": []
    },
    {
      "cell_type": "code",
      "source": [
        "all_docs = DocPreprocess(nlp, stop_words, df['Consumer complaint narrative'], df['Product'])"
      ],
      "metadata": {
        "id": "7PGCXYcS6KCw"
      },
      "execution_count": 11,
      "outputs": []
    },
    {
      "cell_type": "code",
      "source": [
        "all_docs"
      ],
      "metadata": {
        "colab": {
          "base_uri": "https://localhost:8080/"
        },
        "id": "qX9SQHpZ6Q8u",
        "outputId": "70bc26a9-8dc0-4f2c-ad85-1f6765e67c15"
      },
      "execution_count": 12,
      "outputs": [
        {
          "output_type": "execute_result",
          "data": {
            "text/plain": [
              "<__main__.DocPreprocess at 0x7f2d26846f90>"
            ]
          },
          "metadata": {},
          "execution_count": 12
        }
      ]
    },
    {
      "cell_type": "code",
      "source": [
        "os.getcwd()"
      ],
      "metadata": {
        "colab": {
          "base_uri": "https://localhost:8080/",
          "height": 36
        },
        "id": "4MlRW2ry-in2",
        "outputId": "8bd40709-24be-4544-9419-6b4e81c52af9"
      },
      "execution_count": 15,
      "outputs": [
        {
          "output_type": "execute_result",
          "data": {
            "text/plain": [
              "'/content'"
            ],
            "application/vnd.google.colaboratory.intrinsic+json": {
              "type": "string"
            }
          },
          "metadata": {},
          "execution_count": 15
        }
      ]
    },
    {
      "cell_type": "code",
      "source": [
        "import pickle\n",
        "\n",
        "dir_path = '/content'\n",
        "# Save all_docs as pickle.\n",
        "with open(os.path.join(dir_path, 'all_docs.pickle'), 'wb') as f:\n",
        "    pickle.dump(all_docs, f, pickle.HIGHEST_PROTOCOL)"
      ],
      "metadata": {
        "id": "WfXb2H3e99-g"
      },
      "execution_count": 16,
      "outputs": []
    },
    {
      "cell_type": "code",
      "source": [
        "with open(os.path.join(dir_path, 'all_docs.pickle'), 'rb') as f:\n",
        "    all_docs = pickle.load(f)"
      ],
      "metadata": {
        "id": "cFZaVsbz-e14"
      },
      "execution_count": 17,
      "outputs": []
    },
    {
      "cell_type": "code",
      "source": [
        "type(all_docs)"
      ],
      "metadata": {
        "colab": {
          "base_uri": "https://localhost:8080/"
        },
        "id": "0cTM6Yic-x6G",
        "outputId": "1882d8db-d1d6-4ba7-bd38-3e6cdee7eb2a"
      },
      "execution_count": 18,
      "outputs": [
        {
          "output_type": "execute_result",
          "data": {
            "text/plain": [
              "__main__.DocPreprocess"
            ]
          },
          "metadata": {},
          "execution_count": 18
        }
      ]
    },
    {
      "cell_type": "code",
      "source": [
        "len(all_docs.tagdocs)"
      ],
      "metadata": {
        "colab": {
          "base_uri": "https://localhost:8080/"
        },
        "id": "uWLhc6Ef-2Fq",
        "outputId": "7ffe2a7a-08d3-4dc4-ea8e-cc6ac909c297"
      },
      "execution_count": 19,
      "outputs": [
        {
          "output_type": "execute_result",
          "data": {
            "text/plain": [
              "25000"
            ]
          },
          "metadata": {},
          "execution_count": 19
        }
      ]
    },
    {
      "cell_type": "code",
      "source": [
        "print('Demo of doc words...')\n",
        "all_docs.doc_words[4][:10]"
      ],
      "metadata": {
        "colab": {
          "base_uri": "https://localhost:8080/"
        },
        "id": "n6_YIrAh-6PD",
        "outputId": "560667f4-043c-450d-90f1-5d20f81018cc"
      },
      "execution_count": 20,
      "outputs": [
        {
          "output_type": "stream",
          "name": "stdout",
          "text": [
            "Demo of doc words...\n"
          ]
        },
        {
          "output_type": "execute_result",
          "data": {
            "text/plain": [
              "['receive', 'information', 'verify', 'debt']"
            ]
          },
          "metadata": {},
          "execution_count": 20
        }
      ]
    },
    {
      "cell_type": "code",
      "source": [
        "print('Label of tagged document...')\n",
        "all_docs.labels.iloc[4]"
      ],
      "metadata": {
        "colab": {
          "base_uri": "https://localhost:8080/",
          "height": 55
        },
        "id": "pJtPB99--7rV",
        "outputId": "0a02deaf-055e-41a9-a6bd-97fd330311b4"
      },
      "execution_count": 21,
      "outputs": [
        {
          "output_type": "stream",
          "name": "stdout",
          "text": [
            "Label of tagged document...\n"
          ]
        },
        {
          "output_type": "execute_result",
          "data": {
            "text/plain": [
              "'Debt collection'"
            ],
            "application/vnd.google.colaboratory.intrinsic+json": {
              "type": "string"
            }
          },
          "metadata": {},
          "execution_count": 21
        }
      ]
    },
    {
      "cell_type": "markdown",
      "source": [
        "# Construindo o modelo Word2vec"
      ],
      "metadata": {
        "id": "QxVt8k09_Ag2"
      }
    },
    {
      "cell_type": "code",
      "source": [
        "import multiprocessing\n",
        "import sys\n",
        "from gensim.models.word2vec import Word2Vec\n",
        "\n",
        "workers = multiprocessing.cpu_count()\n",
        "print('number of cpu: {}'.format(workers))\n",
        "assert gensim.models.doc2vec.FAST_VERSION > -1, \"This will be painfully slow otherwise.\""
      ],
      "metadata": {
        "colab": {
          "base_uri": "https://localhost:8080/"
        },
        "id": "evv-Eq-D_Cuu",
        "outputId": "5d192517-cb7b-4690-c213-2eba9156fd9b"
      },
      "execution_count": 22,
      "outputs": [
        {
          "output_type": "stream",
          "name": "stdout",
          "text": [
            "number of cpu: 2\n"
          ]
        }
      ]
    },
    {
      "cell_type": "code",
      "source": [
        "word_model = Word2Vec(all_docs.doc_words,\n",
        "                      min_count=2,\n",
        "                      size=100,\n",
        "                      window=5,\n",
        "                      workers=workers,\n",
        "                      iter=100)"
      ],
      "metadata": {
        "id": "UsUJvDUV_Eed"
      },
      "execution_count": null,
      "outputs": []
    },
    {
      "cell_type": "code",
      "source": [
        ""
      ],
      "metadata": {
        "id": "Jg3jOR7y_6Sx"
      },
      "execution_count": null,
      "outputs": []
    },
    {
      "cell_type": "markdown",
      "source": [
        "# Calculando a média do word embedding para cada documento "
      ],
      "metadata": {
        "id": "S-wKRUD2_Jco"
      }
    },
    {
      "cell_type": "code",
      "source": [
        ""
      ],
      "metadata": {
        "id": "fxlLT6fu_HXE"
      },
      "execution_count": null,
      "outputs": []
    }
  ]
}